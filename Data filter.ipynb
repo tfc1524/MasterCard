{
 "cells": [
  {
   "cell_type": "code",
   "execution_count": 1,
   "id": "bef4f656",
   "metadata": {},
   "outputs": [],
   "source": [
    "import pandas as pd\n",
    "import numpy as np\n",
    "import datetime"
   ]
  },
  {
   "cell_type": "code",
   "execution_count": 2,
   "id": "5d248a43",
   "metadata": {},
   "outputs": [
    {
     "data": {
      "text/html": [
       "<div>\n",
       "<style scoped>\n",
       "    .dataframe tbody tr th:only-of-type {\n",
       "        vertical-align: middle;\n",
       "    }\n",
       "\n",
       "    .dataframe tbody tr th {\n",
       "        vertical-align: top;\n",
       "    }\n",
       "\n",
       "    .dataframe thead th {\n",
       "        text-align: right;\n",
       "    }\n",
       "</style>\n",
       "<table border=\"1\" class=\"dataframe\">\n",
       "  <thead>\n",
       "    <tr style=\"text-align: right;\">\n",
       "      <th></th>\n",
       "      <th>發票年月</th>\n",
       "      <th>縣市代碼</th>\n",
       "      <th>縣市名稱</th>\n",
       "      <th>鄉鎮市區代碼</th>\n",
       "      <th>鄉鎮市區名稱</th>\n",
       "      <th>行業名稱</th>\n",
       "      <th>平均開立張數</th>\n",
       "      <th>平均開立金額</th>\n",
       "      <th>平均客單價</th>\n",
       "    </tr>\n",
       "  </thead>\n",
       "  <tbody>\n",
       "    <tr>\n",
       "      <th>0</th>\n",
       "      <td>2021/9/1</td>\n",
       "      <td>A</td>\n",
       "      <td>臺北市</td>\n",
       "      <td>10.0</td>\n",
       "      <td>中山區</td>\n",
       "      <td>百貨公司</td>\n",
       "      <td>149982</td>\n",
       "      <td>225759520</td>\n",
       "      <td>1505</td>\n",
       "    </tr>\n",
       "    <tr>\n",
       "      <th>1</th>\n",
       "      <td>2021/9/1</td>\n",
       "      <td>A</td>\n",
       "      <td>臺北市</td>\n",
       "      <td>2.0</td>\n",
       "      <td>大安區</td>\n",
       "      <td>百貨公司</td>\n",
       "      <td>71125</td>\n",
       "      <td>164283711</td>\n",
       "      <td>2310</td>\n",
       "    </tr>\n",
       "    <tr>\n",
       "      <th>2</th>\n",
       "      <td>2021/9/1</td>\n",
       "      <td>A</td>\n",
       "      <td>臺北市</td>\n",
       "      <td>17.0</td>\n",
       "      <td>信義區</td>\n",
       "      <td>百貨公司</td>\n",
       "      <td>100730</td>\n",
       "      <td>150002101</td>\n",
       "      <td>1489</td>\n",
       "    </tr>\n",
       "  </tbody>\n",
       "</table>\n",
       "</div>"
      ],
      "text/plain": [
       "       發票年月 縣市代碼 縣市名稱  鄉鎮市區代碼 鄉鎮市區名稱  行業名稱  平均開立張數     平均開立金額  平均客單價\n",
       "0  2021/9/1    A  臺北市    10.0    中山區  百貨公司  149982  225759520   1505\n",
       "1  2021/9/1    A  臺北市     2.0    大安區  百貨公司   71125  164283711   2310\n",
       "2  2021/9/1    A  臺北市    17.0    信義區  百貨公司  100730  150002101   1489"
      ]
     },
     "execution_count": 2,
     "metadata": {},
     "output_type": "execute_result"
    }
   ],
   "source": [
    "df = pd.read_csv('government_data.csv')\n",
    "df_copy = df.copy()\n",
    "df_copy.head(3)"
   ]
  },
  {
   "cell_type": "code",
   "execution_count": 3,
   "id": "ce9ee020",
   "metadata": {},
   "outputs": [
    {
     "data": {
      "text/plain": [
       "發票年月       object\n",
       "縣市代碼       object\n",
       "縣市名稱       object\n",
       "鄉鎮市區代碼    float64\n",
       "鄉鎮市區名稱     object\n",
       "行業名稱       object\n",
       "平均開立張數      int64\n",
       "平均開立金額      int64\n",
       "平均客單價       int64\n",
       "dtype: object"
      ]
     },
     "execution_count": 3,
     "metadata": {},
     "output_type": "execute_result"
    }
   ],
   "source": [
    "df_copy.dtypes"
   ]
  },
  {
   "cell_type": "code",
   "execution_count": 4,
   "id": "e66a0a06",
   "metadata": {},
   "outputs": [],
   "source": [
    "df_copy['發票年月'] = pd.to_datetime(df_copy['發票年月'])"
   ]
  },
  {
   "cell_type": "code",
   "execution_count": 5,
   "id": "c2132dc4",
   "metadata": {},
   "outputs": [
    {
     "data": {
      "text/html": [
       "<div>\n",
       "<style scoped>\n",
       "    .dataframe tbody tr th:only-of-type {\n",
       "        vertical-align: middle;\n",
       "    }\n",
       "\n",
       "    .dataframe tbody tr th {\n",
       "        vertical-align: top;\n",
       "    }\n",
       "\n",
       "    .dataframe thead th {\n",
       "        text-align: right;\n",
       "    }\n",
       "</style>\n",
       "<table border=\"1\" class=\"dataframe\">\n",
       "  <thead>\n",
       "    <tr style=\"text-align: right;\">\n",
       "      <th></th>\n",
       "      <th>發票年月</th>\n",
       "      <th>縣市代碼</th>\n",
       "      <th>縣市名稱</th>\n",
       "      <th>鄉鎮市區代碼</th>\n",
       "      <th>鄉鎮市區名稱</th>\n",
       "      <th>行業名稱</th>\n",
       "      <th>平均開立張數</th>\n",
       "      <th>平均開立金額</th>\n",
       "      <th>平均客單價</th>\n",
       "    </tr>\n",
       "  </thead>\n",
       "  <tbody>\n",
       "    <tr>\n",
       "      <th>0</th>\n",
       "      <td>2021-09-01</td>\n",
       "      <td>A</td>\n",
       "      <td>臺北市</td>\n",
       "      <td>10.0</td>\n",
       "      <td>中山區</td>\n",
       "      <td>百貨公司</td>\n",
       "      <td>149982</td>\n",
       "      <td>225759520</td>\n",
       "      <td>1505</td>\n",
       "    </tr>\n",
       "    <tr>\n",
       "      <th>1</th>\n",
       "      <td>2021-09-01</td>\n",
       "      <td>A</td>\n",
       "      <td>臺北市</td>\n",
       "      <td>2.0</td>\n",
       "      <td>大安區</td>\n",
       "      <td>百貨公司</td>\n",
       "      <td>71125</td>\n",
       "      <td>164283711</td>\n",
       "      <td>2310</td>\n",
       "    </tr>\n",
       "    <tr>\n",
       "      <th>2</th>\n",
       "      <td>2021-09-01</td>\n",
       "      <td>A</td>\n",
       "      <td>臺北市</td>\n",
       "      <td>17.0</td>\n",
       "      <td>信義區</td>\n",
       "      <td>百貨公司</td>\n",
       "      <td>100730</td>\n",
       "      <td>150002101</td>\n",
       "      <td>1489</td>\n",
       "    </tr>\n",
       "  </tbody>\n",
       "</table>\n",
       "</div>"
      ],
      "text/plain": [
       "        發票年月 縣市代碼 縣市名稱  鄉鎮市區代碼 鄉鎮市區名稱  行業名稱  平均開立張數     平均開立金額  平均客單價\n",
       "0 2021-09-01    A  臺北市    10.0    中山區  百貨公司  149982  225759520   1505\n",
       "1 2021-09-01    A  臺北市     2.0    大安區  百貨公司   71125  164283711   2310\n",
       "2 2021-09-01    A  臺北市    17.0    信義區  百貨公司  100730  150002101   1489"
      ]
     },
     "metadata": {},
     "output_type": "display_data"
    },
    {
     "data": {
      "text/plain": [
       "發票年月      datetime64[ns]\n",
       "縣市代碼              object\n",
       "縣市名稱              object\n",
       "鄉鎮市區代碼           float64\n",
       "鄉鎮市區名稱            object\n",
       "行業名稱              object\n",
       "平均開立張數             int64\n",
       "平均開立金額             int64\n",
       "平均客單價              int64\n",
       "dtype: object"
      ]
     },
     "execution_count": 5,
     "metadata": {},
     "output_type": "execute_result"
    }
   ],
   "source": [
    "display(df_copy.head(3))\n",
    "df_copy.dtypes"
   ]
  },
  {
   "cell_type": "code",
   "execution_count": 6,
   "id": "c0bc66d7",
   "metadata": {},
   "outputs": [
    {
     "data": {
      "text/html": [
       "<div>\n",
       "<style scoped>\n",
       "    .dataframe tbody tr th:only-of-type {\n",
       "        vertical-align: middle;\n",
       "    }\n",
       "\n",
       "    .dataframe tbody tr th {\n",
       "        vertical-align: top;\n",
       "    }\n",
       "\n",
       "    .dataframe thead th {\n",
       "        text-align: right;\n",
       "    }\n",
       "</style>\n",
       "<table border=\"1\" class=\"dataframe\">\n",
       "  <thead>\n",
       "    <tr style=\"text-align: right;\">\n",
       "      <th></th>\n",
       "      <th>發票年月</th>\n",
       "      <th>縣市代碼</th>\n",
       "      <th>縣市名稱</th>\n",
       "      <th>鄉鎮市區代碼</th>\n",
       "      <th>鄉鎮市區名稱</th>\n",
       "      <th>行業名稱</th>\n",
       "      <th>平均開立張數</th>\n",
       "      <th>平均開立金額</th>\n",
       "      <th>平均客單價</th>\n",
       "    </tr>\n",
       "  </thead>\n",
       "  <tbody>\n",
       "    <tr>\n",
       "      <th>3241</th>\n",
       "      <td>2019-12-01</td>\n",
       "      <td>A</td>\n",
       "      <td>臺北市</td>\n",
       "      <td>3.0</td>\n",
       "      <td>中正區</td>\n",
       "      <td>百貨公司</td>\n",
       "      <td>153663</td>\n",
       "      <td>204143961</td>\n",
       "      <td>1329</td>\n",
       "    </tr>\n",
       "    <tr>\n",
       "      <th>3242</th>\n",
       "      <td>2019-12-01</td>\n",
       "      <td>T</td>\n",
       "      <td>屏東縣</td>\n",
       "      <td>1.0</td>\n",
       "      <td>屏東市</td>\n",
       "      <td>百貨公司</td>\n",
       "      <td>51017</td>\n",
       "      <td>37092722</td>\n",
       "      <td>727</td>\n",
       "    </tr>\n",
       "    <tr>\n",
       "      <th>3243</th>\n",
       "      <td>2019-12-01</td>\n",
       "      <td>E</td>\n",
       "      <td>高雄市</td>\n",
       "      <td>67.0</td>\n",
       "      <td>燕巢區</td>\n",
       "      <td>綜合商品零售業</td>\n",
       "      <td>40426</td>\n",
       "      <td>3949934</td>\n",
       "      <td>98</td>\n",
       "    </tr>\n",
       "  </tbody>\n",
       "</table>\n",
       "</div>"
      ],
      "text/plain": [
       "           發票年月 縣市代碼 縣市名稱  鄉鎮市區代碼 鄉鎮市區名稱     行業名稱  平均開立張數     平均開立金額  平均客單價\n",
       "3241 2019-12-01    A  臺北市     3.0    中正區     百貨公司  153663  204143961   1329\n",
       "3242 2019-12-01    T  屏東縣     1.0    屏東市     百貨公司   51017   37092722    727\n",
       "3243 2019-12-01    E  高雄市    67.0    燕巢區  綜合商品零售業   40426    3949934     98"
      ]
     },
     "execution_count": 6,
     "metadata": {},
     "output_type": "execute_result"
    }
   ],
   "source": [
    "df_1819 = df_copy[df_copy['發票年月'] < pd.Timestamp(year=2020, month=1, day=1)]\n",
    "df_1819.head(3)"
   ]
  },
  {
   "cell_type": "code",
   "execution_count": 7,
   "id": "323f44cd",
   "metadata": {},
   "outputs": [
    {
     "data": {
      "text/html": [
       "<div>\n",
       "<style scoped>\n",
       "    .dataframe tbody tr th:only-of-type {\n",
       "        vertical-align: middle;\n",
       "    }\n",
       "\n",
       "    .dataframe tbody tr th {\n",
       "        vertical-align: top;\n",
       "    }\n",
       "\n",
       "    .dataframe thead th {\n",
       "        text-align: right;\n",
       "    }\n",
       "</style>\n",
       "<table border=\"1\" class=\"dataframe\">\n",
       "  <thead>\n",
       "    <tr style=\"text-align: right;\">\n",
       "      <th></th>\n",
       "      <th>發票年月</th>\n",
       "      <th>縣市代碼</th>\n",
       "      <th>縣市名稱</th>\n",
       "      <th>鄉鎮市區代碼</th>\n",
       "      <th>鄉鎮市區名稱</th>\n",
       "      <th>行業名稱</th>\n",
       "      <th>平均開立張數</th>\n",
       "      <th>平均開立金額</th>\n",
       "      <th>平均客單價</th>\n",
       "      <th>COVID</th>\n",
       "    </tr>\n",
       "  </thead>\n",
       "  <tbody>\n",
       "    <tr>\n",
       "      <th>0</th>\n",
       "      <td>2021-09-01</td>\n",
       "      <td>A</td>\n",
       "      <td>臺北市</td>\n",
       "      <td>10.0</td>\n",
       "      <td>中山區</td>\n",
       "      <td>百貨公司</td>\n",
       "      <td>149982</td>\n",
       "      <td>225759520</td>\n",
       "      <td>1505</td>\n",
       "      <td>1.0</td>\n",
       "    </tr>\n",
       "    <tr>\n",
       "      <th>1</th>\n",
       "      <td>2021-09-01</td>\n",
       "      <td>A</td>\n",
       "      <td>臺北市</td>\n",
       "      <td>2.0</td>\n",
       "      <td>大安區</td>\n",
       "      <td>百貨公司</td>\n",
       "      <td>71125</td>\n",
       "      <td>164283711</td>\n",
       "      <td>2310</td>\n",
       "      <td>1.0</td>\n",
       "    </tr>\n",
       "    <tr>\n",
       "      <th>2</th>\n",
       "      <td>2021-09-01</td>\n",
       "      <td>A</td>\n",
       "      <td>臺北市</td>\n",
       "      <td>17.0</td>\n",
       "      <td>信義區</td>\n",
       "      <td>百貨公司</td>\n",
       "      <td>100730</td>\n",
       "      <td>150002101</td>\n",
       "      <td>1489</td>\n",
       "      <td>1.0</td>\n",
       "    </tr>\n",
       "  </tbody>\n",
       "</table>\n",
       "</div>"
      ],
      "text/plain": [
       "        發票年月 縣市代碼 縣市名稱  鄉鎮市區代碼 鄉鎮市區名稱  行業名稱  平均開立張數     平均開立金額  平均客單價  COVID\n",
       "0 2021-09-01    A  臺北市    10.0    中山區  百貨公司  149982  225759520   1505    1.0\n",
       "1 2021-09-01    A  臺北市     2.0    大安區  百貨公司   71125  164283711   2310    1.0\n",
       "2 2021-09-01    A  臺北市    17.0    信義區  百貨公司  100730  150002101   1489    1.0"
      ]
     },
     "execution_count": 7,
     "metadata": {},
     "output_type": "execute_result"
    }
   ],
   "source": [
    "df_copy.loc[list(df_1819.index), 'COVID'] = 0\n",
    "df_copy['COVID'] = df_copy['COVID'].fillna(1)\n",
    "df_copy.head(3)"
   ]
  },
  {
   "cell_type": "code",
   "execution_count": 8,
   "id": "4dbb0ede",
   "metadata": {},
   "outputs": [],
   "source": [
    "df_copy['Year'] = df_copy['發票年月'].apply(lambda x: x.year)\n",
    "df_copy['Month'] = df_copy['發票年月'].apply(lambda x: x.month)\n",
    "df_copy['Day'] = df_copy['發票年月'].apply(lambda x: x.day)"
   ]
  },
  {
   "cell_type": "code",
   "execution_count": 9,
   "id": "b65a8a25",
   "metadata": {},
   "outputs": [
    {
     "data": {
      "text/plain": [
       "11    2880\n",
       "10    2867\n",
       "Name: Month, dtype: int64"
      ]
     },
     "execution_count": 9,
     "metadata": {},
     "output_type": "execute_result"
    }
   ],
   "source": [
    "df_anniversary = df_copy[(df_copy['Month'] <= 11) & (df_copy['Month'] >= 10)]\n",
    "df_anniversary.Month.value_counts()"
   ]
  },
  {
   "cell_type": "code",
   "execution_count": 10,
   "id": "fc924ea9",
   "metadata": {},
   "outputs": [],
   "source": [
    "df_copy.loc[list(df_anniversary.index), 'Anniversary'] = 1\n",
    "df_copy['Anniversary'] = df_copy['Anniversary'].fillna(0)"
   ]
  },
  {
   "cell_type": "code",
   "execution_count": 11,
   "id": "4a92c0f5",
   "metadata": {},
   "outputs": [],
   "source": [
    "df_nearanni = df_copy[(df_copy['Month'] == 9)]\n",
    "df_copy.loc[list(df_anniversary.index), '週年慶前後'] = -1\n",
    "df_copy.loc[list(df_nearanni.index), '週年慶前後'] = 1\n",
    "df_copy['週年慶前後'].fillna(0, inplace=True)"
   ]
  },
  {
   "cell_type": "code",
   "execution_count": 12,
   "id": "7423b00b",
   "metadata": {},
   "outputs": [
    {
     "data": {
      "text/html": [
       "<div>\n",
       "<style scoped>\n",
       "    .dataframe tbody tr th:only-of-type {\n",
       "        vertical-align: middle;\n",
       "    }\n",
       "\n",
       "    .dataframe tbody tr th {\n",
       "        vertical-align: top;\n",
       "    }\n",
       "\n",
       "    .dataframe thead th {\n",
       "        text-align: right;\n",
       "    }\n",
       "</style>\n",
       "<table border=\"1\" class=\"dataframe\">\n",
       "  <thead>\n",
       "    <tr style=\"text-align: right;\">\n",
       "      <th></th>\n",
       "      <th>發票年月</th>\n",
       "      <th>縣市代碼</th>\n",
       "      <th>縣市名稱</th>\n",
       "      <th>鄉鎮市區代碼</th>\n",
       "      <th>鄉鎮市區名稱</th>\n",
       "      <th>行業名稱</th>\n",
       "      <th>平均開立張數</th>\n",
       "      <th>平均開立金額</th>\n",
       "      <th>平均客單價</th>\n",
       "      <th>COVID</th>\n",
       "      <th>Year</th>\n",
       "      <th>Month</th>\n",
       "      <th>Day</th>\n",
       "      <th>Anniversary</th>\n",
       "      <th>週年慶前後</th>\n",
       "    </tr>\n",
       "  </thead>\n",
       "  <tbody>\n",
       "    <tr>\n",
       "      <th>0</th>\n",
       "      <td>2021-09-01</td>\n",
       "      <td>A</td>\n",
       "      <td>臺北市</td>\n",
       "      <td>10.0</td>\n",
       "      <td>中山區</td>\n",
       "      <td>百貨公司</td>\n",
       "      <td>149982</td>\n",
       "      <td>225759520</td>\n",
       "      <td>1505</td>\n",
       "      <td>1.0</td>\n",
       "      <td>2021</td>\n",
       "      <td>9</td>\n",
       "      <td>1</td>\n",
       "      <td>0.0</td>\n",
       "      <td>1.0</td>\n",
       "    </tr>\n",
       "    <tr>\n",
       "      <th>1</th>\n",
       "      <td>2021-09-01</td>\n",
       "      <td>A</td>\n",
       "      <td>臺北市</td>\n",
       "      <td>2.0</td>\n",
       "      <td>大安區</td>\n",
       "      <td>百貨公司</td>\n",
       "      <td>71125</td>\n",
       "      <td>164283711</td>\n",
       "      <td>2310</td>\n",
       "      <td>1.0</td>\n",
       "      <td>2021</td>\n",
       "      <td>9</td>\n",
       "      <td>1</td>\n",
       "      <td>0.0</td>\n",
       "      <td>1.0</td>\n",
       "    </tr>\n",
       "    <tr>\n",
       "      <th>2</th>\n",
       "      <td>2021-09-01</td>\n",
       "      <td>A</td>\n",
       "      <td>臺北市</td>\n",
       "      <td>17.0</td>\n",
       "      <td>信義區</td>\n",
       "      <td>百貨公司</td>\n",
       "      <td>100730</td>\n",
       "      <td>150002101</td>\n",
       "      <td>1489</td>\n",
       "      <td>1.0</td>\n",
       "      <td>2021</td>\n",
       "      <td>9</td>\n",
       "      <td>1</td>\n",
       "      <td>0.0</td>\n",
       "      <td>1.0</td>\n",
       "    </tr>\n",
       "  </tbody>\n",
       "</table>\n",
       "</div>"
      ],
      "text/plain": [
       "        發票年月 縣市代碼 縣市名稱  鄉鎮市區代碼 鄉鎮市區名稱  行業名稱  平均開立張數     平均開立金額  平均客單價  COVID  \\\n",
       "0 2021-09-01    A  臺北市    10.0    中山區  百貨公司  149982  225759520   1505    1.0   \n",
       "1 2021-09-01    A  臺北市     2.0    大安區  百貨公司   71125  164283711   2310    1.0   \n",
       "2 2021-09-01    A  臺北市    17.0    信義區  百貨公司  100730  150002101   1489    1.0   \n",
       "\n",
       "   Year  Month  Day  Anniversary  週年慶前後  \n",
       "0  2021      9    1          0.0    1.0  \n",
       "1  2021      9    1          0.0    1.0  \n",
       "2  2021      9    1          0.0    1.0  "
      ]
     },
     "execution_count": 12,
     "metadata": {},
     "output_type": "execute_result"
    }
   ],
   "source": [
    "df_copy.head(3)"
   ]
  },
  {
   "cell_type": "code",
   "execution_count": 14,
   "id": "36fb6f4b",
   "metadata": {},
   "outputs": [],
   "source": [
    "dep_dist_list = list(df_copy[df_copy['行業名稱'] == '百貨公司'].鄉鎮市區名稱.unique())"
   ]
  },
  {
   "cell_type": "code",
   "execution_count": 15,
   "id": "94be0e1c",
   "metadata": {},
   "outputs": [],
   "source": [
    "dist_data_index = []  # 區內有百貨\n",
    "not_dist_data_index = []  # 區內沒有百貨\n",
    "\n",
    "for index, row in df_copy.iterrows():\n",
    "    if row['鄉鎮市區名稱'] in dep_dist_list and (row['Year'] >= 2018 and row['Year'] <= 2020):\n",
    "        dist_data_index.append(index)\n",
    "    elif row['鄉鎮市區名稱'] not in dep_dist_list and (row['Year'] >= 2018 and row['Year'] <= 2020):\n",
    "        not_dist_data_index.append(index)"
   ]
  },
  {
   "cell_type": "code",
   "execution_count": 16,
   "id": "b529dd74",
   "metadata": {},
   "outputs": [],
   "source": [
    "df_copy.loc[dist_data_index, '區內有百貨'] = 1\n",
    "df_copy.loc[not_dist_data_index, '區內有百貨'] = 0\n",
    "df_copy['區內有百貨'].fillna(-1, inplace=True)"
   ]
  },
  {
   "cell_type": "code",
   "execution_count": 18,
   "id": "962f8c99",
   "metadata": {},
   "outputs": [
    {
     "data": {
      "text/plain": [
       " 0.0    28752\n",
       "-1.0     9177\n",
       " 1.0     5223\n",
       "Name: 區內有百貨, dtype: int64"
      ]
     },
     "execution_count": 18,
     "metadata": {},
     "output_type": "execute_result"
    }
   ],
   "source": [
    "df_copy['區內有百貨'].value_counts()"
   ]
  },
  {
   "cell_type": "code",
   "execution_count": 19,
   "id": "67635c10",
   "metadata": {},
   "outputs": [],
   "source": [
    "df_copy.to_excel('government_data_2.0.xlsx', index=False)"
   ]
  },
  {
   "cell_type": "code",
   "execution_count": 17,
   "id": "f7697b8a",
   "metadata": {},
   "outputs": [],
   "source": [
    "# df_dep_dist.to_excel('百貨公司所在區.xlsx', index=False)"
   ]
  },
  {
   "cell_type": "code",
   "execution_count": null,
   "id": "22ee6886",
   "metadata": {},
   "outputs": [],
   "source": []
  }
 ],
 "metadata": {
  "kernelspec": {
   "display_name": "Python 3",
   "language": "python",
   "name": "python3"
  },
  "language_info": {
   "codemirror_mode": {
    "name": "ipython",
    "version": 3
   },
   "file_extension": ".py",
   "mimetype": "text/x-python",
   "name": "python",
   "nbconvert_exporter": "python",
   "pygments_lexer": "ipython3",
   "version": "3.9.5"
  }
 },
 "nbformat": 4,
 "nbformat_minor": 5
}
