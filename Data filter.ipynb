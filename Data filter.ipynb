{
 "cells": [
  {
   "cell_type": "code",
   "execution_count": 13,
   "id": "bef4f656",
   "metadata": {},
   "outputs": [],
   "source": [
    "import pandas as pd\n",
    "import numpy as np\n",
    "import datetime"
   ]
  },
  {
   "cell_type": "code",
   "execution_count": 7,
   "id": "5d248a43",
   "metadata": {},
   "outputs": [
    {
     "data": {
      "text/html": [
       "<div>\n",
       "<style scoped>\n",
       "    .dataframe tbody tr th:only-of-type {\n",
       "        vertical-align: middle;\n",
       "    }\n",
       "\n",
       "    .dataframe tbody tr th {\n",
       "        vertical-align: top;\n",
       "    }\n",
       "\n",
       "    .dataframe thead th {\n",
       "        text-align: right;\n",
       "    }\n",
       "</style>\n",
       "<table border=\"1\" class=\"dataframe\">\n",
       "  <thead>\n",
       "    <tr style=\"text-align: right;\">\n",
       "      <th></th>\n",
       "      <th>發票年月</th>\n",
       "      <th>縣市代碼</th>\n",
       "      <th>縣市名稱</th>\n",
       "      <th>鄉鎮市區代碼</th>\n",
       "      <th>鄉鎮市區名稱</th>\n",
       "      <th>行業名稱</th>\n",
       "      <th>平均開立張數</th>\n",
       "      <th>平均開立金額</th>\n",
       "      <th>平均客單價</th>\n",
       "    </tr>\n",
       "  </thead>\n",
       "  <tbody>\n",
       "    <tr>\n",
       "      <th>0</th>\n",
       "      <td>2021/9/1</td>\n",
       "      <td>A</td>\n",
       "      <td>臺北市</td>\n",
       "      <td>10.0</td>\n",
       "      <td>中山區</td>\n",
       "      <td>百貨公司</td>\n",
       "      <td>149982</td>\n",
       "      <td>225759520</td>\n",
       "      <td>1505</td>\n",
       "    </tr>\n",
       "    <tr>\n",
       "      <th>1</th>\n",
       "      <td>2021/9/1</td>\n",
       "      <td>A</td>\n",
       "      <td>臺北市</td>\n",
       "      <td>2.0</td>\n",
       "      <td>大安區</td>\n",
       "      <td>百貨公司</td>\n",
       "      <td>71125</td>\n",
       "      <td>164283711</td>\n",
       "      <td>2310</td>\n",
       "    </tr>\n",
       "    <tr>\n",
       "      <th>2</th>\n",
       "      <td>2021/9/1</td>\n",
       "      <td>A</td>\n",
       "      <td>臺北市</td>\n",
       "      <td>17.0</td>\n",
       "      <td>信義區</td>\n",
       "      <td>百貨公司</td>\n",
       "      <td>100730</td>\n",
       "      <td>150002101</td>\n",
       "      <td>1489</td>\n",
       "    </tr>\n",
       "  </tbody>\n",
       "</table>\n",
       "</div>"
      ],
      "text/plain": [
       "       發票年月 縣市代碼 縣市名稱  鄉鎮市區代碼 鄉鎮市區名稱  行業名稱  平均開立張數     平均開立金額  平均客單價\n",
       "0  2021/9/1    A  臺北市    10.0    中山區  百貨公司  149982  225759520   1505\n",
       "1  2021/9/1    A  臺北市     2.0    大安區  百貨公司   71125  164283711   2310\n",
       "2  2021/9/1    A  臺北市    17.0    信義區  百貨公司  100730  150002101   1489"
      ]
     },
     "execution_count": 7,
     "metadata": {},
     "output_type": "execute_result"
    }
   ],
   "source": [
    "df = pd.read_csv('government_data.csv')\n",
    "df_copy = df.copy()\n",
    "df_copy.head(3)"
   ]
  },
  {
   "cell_type": "code",
   "execution_count": 8,
   "id": "ce9ee020",
   "metadata": {},
   "outputs": [
    {
     "data": {
      "text/plain": [
       "發票年月       object\n",
       "縣市代碼       object\n",
       "縣市名稱       object\n",
       "鄉鎮市區代碼    float64\n",
       "鄉鎮市區名稱     object\n",
       "行業名稱       object\n",
       "平均開立張數      int64\n",
       "平均開立金額      int64\n",
       "平均客單價       int64\n",
       "dtype: object"
      ]
     },
     "execution_count": 8,
     "metadata": {},
     "output_type": "execute_result"
    }
   ],
   "source": [
    "df_copy.dtypes"
   ]
  },
  {
   "cell_type": "code",
   "execution_count": 9,
   "id": "e66a0a06",
   "metadata": {},
   "outputs": [],
   "source": [
    "df_copy['發票年月'] = pd.to_datetime(df_copy['發票年月'])"
   ]
  },
  {
   "cell_type": "code",
   "execution_count": 11,
   "id": "c2132dc4",
   "metadata": {},
   "outputs": [
    {
     "data": {
      "text/html": [
       "<div>\n",
       "<style scoped>\n",
       "    .dataframe tbody tr th:only-of-type {\n",
       "        vertical-align: middle;\n",
       "    }\n",
       "\n",
       "    .dataframe tbody tr th {\n",
       "        vertical-align: top;\n",
       "    }\n",
       "\n",
       "    .dataframe thead th {\n",
       "        text-align: right;\n",
       "    }\n",
       "</style>\n",
       "<table border=\"1\" class=\"dataframe\">\n",
       "  <thead>\n",
       "    <tr style=\"text-align: right;\">\n",
       "      <th></th>\n",
       "      <th>發票年月</th>\n",
       "      <th>縣市代碼</th>\n",
       "      <th>縣市名稱</th>\n",
       "      <th>鄉鎮市區代碼</th>\n",
       "      <th>鄉鎮市區名稱</th>\n",
       "      <th>行業名稱</th>\n",
       "      <th>平均開立張數</th>\n",
       "      <th>平均開立金額</th>\n",
       "      <th>平均客單價</th>\n",
       "    </tr>\n",
       "  </thead>\n",
       "  <tbody>\n",
       "    <tr>\n",
       "      <th>0</th>\n",
       "      <td>2021-09-01</td>\n",
       "      <td>A</td>\n",
       "      <td>臺北市</td>\n",
       "      <td>10.0</td>\n",
       "      <td>中山區</td>\n",
       "      <td>百貨公司</td>\n",
       "      <td>149982</td>\n",
       "      <td>225759520</td>\n",
       "      <td>1505</td>\n",
       "    </tr>\n",
       "    <tr>\n",
       "      <th>1</th>\n",
       "      <td>2021-09-01</td>\n",
       "      <td>A</td>\n",
       "      <td>臺北市</td>\n",
       "      <td>2.0</td>\n",
       "      <td>大安區</td>\n",
       "      <td>百貨公司</td>\n",
       "      <td>71125</td>\n",
       "      <td>164283711</td>\n",
       "      <td>2310</td>\n",
       "    </tr>\n",
       "    <tr>\n",
       "      <th>2</th>\n",
       "      <td>2021-09-01</td>\n",
       "      <td>A</td>\n",
       "      <td>臺北市</td>\n",
       "      <td>17.0</td>\n",
       "      <td>信義區</td>\n",
       "      <td>百貨公司</td>\n",
       "      <td>100730</td>\n",
       "      <td>150002101</td>\n",
       "      <td>1489</td>\n",
       "    </tr>\n",
       "  </tbody>\n",
       "</table>\n",
       "</div>"
      ],
      "text/plain": [
       "        發票年月 縣市代碼 縣市名稱  鄉鎮市區代碼 鄉鎮市區名稱  行業名稱  平均開立張數     平均開立金額  平均客單價\n",
       "0 2021-09-01    A  臺北市    10.0    中山區  百貨公司  149982  225759520   1505\n",
       "1 2021-09-01    A  臺北市     2.0    大安區  百貨公司   71125  164283711   2310\n",
       "2 2021-09-01    A  臺北市    17.0    信義區  百貨公司  100730  150002101   1489"
      ]
     },
     "metadata": {},
     "output_type": "display_data"
    },
    {
     "data": {
      "text/plain": [
       "發票年月      datetime64[ns]\n",
       "縣市代碼              object\n",
       "縣市名稱              object\n",
       "鄉鎮市區代碼           float64\n",
       "鄉鎮市區名稱            object\n",
       "行業名稱              object\n",
       "平均開立張數             int64\n",
       "平均開立金額             int64\n",
       "平均客單價              int64\n",
       "dtype: object"
      ]
     },
     "execution_count": 11,
     "metadata": {},
     "output_type": "execute_result"
    }
   ],
   "source": [
    "display(df_copy.head(3))\n",
    "df_copy.dtypes"
   ]
  },
  {
   "cell_type": "code",
   "execution_count": 14,
   "id": "c0bc66d7",
   "metadata": {},
   "outputs": [
    {
     "data": {
      "text/html": [
       "<div>\n",
       "<style scoped>\n",
       "    .dataframe tbody tr th:only-of-type {\n",
       "        vertical-align: middle;\n",
       "    }\n",
       "\n",
       "    .dataframe tbody tr th {\n",
       "        vertical-align: top;\n",
       "    }\n",
       "\n",
       "    .dataframe thead th {\n",
       "        text-align: right;\n",
       "    }\n",
       "</style>\n",
       "<table border=\"1\" class=\"dataframe\">\n",
       "  <thead>\n",
       "    <tr style=\"text-align: right;\">\n",
       "      <th></th>\n",
       "      <th>發票年月</th>\n",
       "      <th>縣市代碼</th>\n",
       "      <th>縣市名稱</th>\n",
       "      <th>鄉鎮市區代碼</th>\n",
       "      <th>鄉鎮市區名稱</th>\n",
       "      <th>行業名稱</th>\n",
       "      <th>平均開立張數</th>\n",
       "      <th>平均開立金額</th>\n",
       "      <th>平均客單價</th>\n",
       "    </tr>\n",
       "  </thead>\n",
       "  <tbody>\n",
       "    <tr>\n",
       "      <th>3241</th>\n",
       "      <td>2019-12-01</td>\n",
       "      <td>A</td>\n",
       "      <td>臺北市</td>\n",
       "      <td>3.0</td>\n",
       "      <td>中正區</td>\n",
       "      <td>百貨公司</td>\n",
       "      <td>153663</td>\n",
       "      <td>204143961</td>\n",
       "      <td>1329</td>\n",
       "    </tr>\n",
       "    <tr>\n",
       "      <th>3242</th>\n",
       "      <td>2019-12-01</td>\n",
       "      <td>T</td>\n",
       "      <td>屏東縣</td>\n",
       "      <td>1.0</td>\n",
       "      <td>屏東市</td>\n",
       "      <td>百貨公司</td>\n",
       "      <td>51017</td>\n",
       "      <td>37092722</td>\n",
       "      <td>727</td>\n",
       "    </tr>\n",
       "    <tr>\n",
       "      <th>3243</th>\n",
       "      <td>2019-12-01</td>\n",
       "      <td>E</td>\n",
       "      <td>高雄市</td>\n",
       "      <td>67.0</td>\n",
       "      <td>燕巢區</td>\n",
       "      <td>綜合商品零售業</td>\n",
       "      <td>40426</td>\n",
       "      <td>3949934</td>\n",
       "      <td>98</td>\n",
       "    </tr>\n",
       "  </tbody>\n",
       "</table>\n",
       "</div>"
      ],
      "text/plain": [
       "           發票年月 縣市代碼 縣市名稱  鄉鎮市區代碼 鄉鎮市區名稱     行業名稱  平均開立張數     平均開立金額  平均客單價\n",
       "3241 2019-12-01    A  臺北市     3.0    中正區     百貨公司  153663  204143961   1329\n",
       "3242 2019-12-01    T  屏東縣     1.0    屏東市     百貨公司   51017   37092722    727\n",
       "3243 2019-12-01    E  高雄市    67.0    燕巢區  綜合商品零售業   40426    3949934     98"
      ]
     },
     "execution_count": 14,
     "metadata": {},
     "output_type": "execute_result"
    }
   ],
   "source": [
    "df_1819 = df_copy[df_copy['發票年月'] < pd.Timestamp(year=2020, month=1, day=1)]\n",
    "df_1819.head(3)"
   ]
  },
  {
   "cell_type": "code",
   "execution_count": 15,
   "id": "a4ef42f2",
   "metadata": {},
   "outputs": [],
   "source": [
    "df_1819.to_excel('2018-19.xlsx', index=False)"
   ]
  },
  {
   "cell_type": "code",
   "execution_count": null,
   "id": "323f44cd",
   "metadata": {},
   "outputs": [],
   "source": []
  }
 ],
 "metadata": {
  "kernelspec": {
   "display_name": "Python 3",
   "language": "python",
   "name": "python3"
  },
  "language_info": {
   "codemirror_mode": {
    "name": "ipython",
    "version": 3
   },
   "file_extension": ".py",
   "mimetype": "text/x-python",
   "name": "python",
   "nbconvert_exporter": "python",
   "pygments_lexer": "ipython3",
   "version": "3.9.5"
  }
 },
 "nbformat": 4,
 "nbformat_minor": 5
}
